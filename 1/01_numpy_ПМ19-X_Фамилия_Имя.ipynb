{
 "cells": [
  {
   "cell_type": "markdown",
   "metadata": {},
   "source": [
    "# Numpy"
   ]
  },
  {
   "cell_type": "markdown",
   "metadata": {},
   "source": [
    "Материалы:\n",
    "* Макрушин С.В. \"Лекция 1: Библиотека Numpy\"\n",
    "* https://numpy.org/doc/stable/user/index.html\n",
    "* https://numpy.org/doc/stable/reference/index.html"
   ]
  },
  {
   "cell_type": "markdown",
   "metadata": {},
   "source": [
    "## Лабораторная работа №1"
   ]
  },
  {
   "cell_type": "markdown",
   "metadata": {},
   "source": [
    "Замечание: при решении данных задач не подразумевается использования циклов или генераторов Python, если в задании не сказано обратного. Решение должно опираться на использования функционала библиотеки `numpy`."
   ]
  },
  {
   "cell_type": "markdown",
   "metadata": {},
   "source": [
    "1. Файл `minutes_n_ingredients.csv` содержит информацию об идентификаторе рецепта, времени его выполнения в минутах и количестве необходимых ингредиентов. Считайте данные из этого файла в виде массива `numpy` типа `int32`, используя `np.loadtxt`. Выведите на экран первые 5 строк массива."
   ]
  },
  {
   "cell_type": "code",
   "execution_count": 2,
   "metadata": {},
   "outputs": [
    {
     "name": "stdout",
     "output_type": "stream",
     "text": [
      "[[127244     60     16]\n",
      " [ 23891     25      7]\n",
      " [ 94746     10      6]\n",
      " [ 67660      5      6]\n",
      " [157911     60     14]]\n"
     ]
    }
   ],
   "source": [
    "import numpy as np\n",
    "\n",
    "arr = np.loadtxt(\"minutes_n_ingredients.csv\", delimiter=',', dtype=np.int32, skiprows=1)\n",
    "print(arr[:5])"
   ]
  },
  {
   "cell_type": "markdown",
   "metadata": {},
   "source": [
    "2. Вычислите среднее значение, минимум, максимум и медиану по каждому из столбцов, кроме первого."
   ]
  },
  {
   "cell_type": "code",
   "execution_count": 3,
   "metadata": {},
   "outputs": [
    {
     "name": "stdout",
     "output_type": "stream",
     "text": [
      "21601.00169 9.05528\n",
      "0.0 1.0\n",
      "2147483647.0 39.0\n",
      "40.0 9.0\n"
     ]
    }
   ],
   "source": [
    "mean = np.mean(arr, axis=0)\n",
    "min = np.min(arr, axis=0)\n",
    "max = np.max(arr, axis=0)\n",
    "med = np.median(arr, axis=0)\n",
    "\n",
    "print(float(mean[1]), float(mean[2]))\n",
    "print(float(min[1]), float(min[2]))\n",
    "print(float(max[1]), float(max[2]))\n",
    "print(float(med[1]), float(med[2]))\n"
   ]
  },
  {
   "cell_type": "markdown",
   "metadata": {},
   "source": [
    "3. Ограничьте сверху значения продолжительности выполнения рецепта значением квантиля $q_{0.75}$. "
   ]
  },
  {
   "cell_type": "code",
   "execution_count": 5,
   "metadata": {},
   "outputs": [
    {
     "name": "stdout",
     "output_type": "stream",
     "text": [
      "[[127244     60     16]\n",
      " [ 23891     25      7]\n",
      " [ 94746     10      6]\n",
      " ...\n",
      " [498432     65     15]\n",
      " [370915      5      4]\n",
      " [ 81993     65     14]]\n"
     ]
    }
   ],
   "source": [
    "qn75 = np.quantile(arr[:, 1], 0.75)\n",
    "arr2 = arr.copy()\n",
    "arr2[:,1] = np.clip(arr2[:,1],a_max=qn75, a_min=None)\n",
    "print(arr2)\n"
   ]
  },
  {
   "cell_type": "markdown",
   "metadata": {},
   "source": [
    "4. Посчитайте, для скольких рецептов указана продолжительность, равная нулю. Замените для таких строк значение в данном столбце на 1."
   ]
  },
  {
   "cell_type": "code",
   "execution_count": 16,
   "metadata": {},
   "outputs": [
    {
     "name": "stdout",
     "output_type": "stream",
     "text": [
      "479\n",
      "[[127244     60     16]\n",
      " [ 23891     25      7]\n",
      " [ 94746     10      6]\n",
      " ...\n",
      " [498432     65     15]\n",
      " [370915      5      4]\n",
      " [ 81993    140     14]]\n"
     ]
    }
   ],
   "source": [
    "arr_zero = np.where(arr[:,1] == 0)[0]\n",
    "print(len(arr_zero))\n",
    "\n",
    "arr3 = arr.copy()\n",
    "arr3[arr_zero, 1] = 1\n",
    "print(arr3)\n",
    "\n"
   ]
  },
  {
   "cell_type": "markdown",
   "metadata": {},
   "source": [
    "5. Посчитайте, сколько уникальных рецептов находится в датасете."
   ]
  },
  {
   "cell_type": "code",
   "execution_count": 20,
   "metadata": {},
   "outputs": [
    {
     "name": "stdout",
     "output_type": "stream",
     "text": [
      "[[ 60  16]\n",
      " [ 25   7]\n",
      " [ 10   6]\n",
      " ...\n",
      " [ 65  15]\n",
      " [  5   4]\n",
      " [140  14]]\n",
      "656\n"
     ]
    }
   ],
   "source": [
    "arr_colum12 = np.column_stack((arr[:,1], arr[:,2]))\n",
    "print(arr_colum12)\n",
    "print(len(np.unique(arr_colum12)))"
   ]
  },
  {
   "cell_type": "markdown",
   "metadata": {},
   "source": [
    "6. Сколько и каких различных значений кол-ва ингредиентов присутвует в рецептах из датасета?"
   ]
  },
  {
   "cell_type": "code",
   "execution_count": 24,
   "metadata": {},
   "outputs": [
    {
     "name": "stdout",
     "output_type": "stream",
     "text": [
      "37\n"
     ]
    },
    {
     "data": {
      "text/plain": [
       "(array([ 1,  2,  3,  4,  5,  6,  7,  8,  9, 10, 11, 12, 13, 14, 15, 16, 17,\n",
       "        18, 19, 20, 21, 22, 23, 24, 25, 26, 27, 28, 29, 30, 31, 32, 33, 34,\n",
       "        35, 37, 39], dtype=int32),\n",
       " array([   13,   926,  2895,  5515,  7913,  9376, 10628, 10951, 10585,\n",
       "         9591,  8297,  6605,  4997,  3663,  2595,  1767,  1246,   790,\n",
       "          573,   376,   217,   161,   105,    69,    50,    28,    16,\n",
       "           16,    12,    12,     3,     1,     2,     1,     3,     1,\n",
       "            1]))"
      ]
     },
     "execution_count": 24,
     "metadata": {},
     "output_type": "execute_result"
    }
   ],
   "source": [
    "unic = np.unique(arr[:,2], return_counts=True)\n",
    "print(len(unic[0]))\n",
    "unic"
   ]
  },
  {
   "cell_type": "markdown",
   "metadata": {},
   "source": [
    "7. Создайте версию массива, содержащую информацию только о рецептах, состоящих не более чем из 5 ингредиентов."
   ]
  },
  {
   "cell_type": "code",
   "execution_count": 27,
   "metadata": {},
   "outputs": [
    {
     "name": "stdout",
     "output_type": "stream",
     "text": [
      "[[446597     15      5]\n",
      " [204134      5      3]\n",
      " [ 25623      6      4]\n",
      " ...\n",
      " [ 52088     60      5]\n",
      " [128811     15      4]\n",
      " [370915      5      4]]\n"
     ]
    }
   ],
   "source": [
    "ar = np.where(arr[:,2]<=5)[0]\n",
    "arr5 = arr[ar,:]\n",
    "print(arr5)"
   ]
  },
  {
   "cell_type": "markdown",
   "metadata": {},
   "source": [
    "8. Для каждого рецепта посчитайте, сколько в среднем ингредиентов приходится на одну минуту рецепта. Найдите максимальное значение этой величины для всего датасета"
   ]
  },
  {
   "cell_type": "code",
   "execution_count": 36,
   "metadata": {},
   "outputs": [
    {
     "name": "stdout",
     "output_type": "stream",
     "text": [
      "[0.26666667 0.28       0.6        ... 0.23076923 0.8        0.1       ]\n"
     ]
    },
    {
     "data": {
      "text/plain": [
       "24.0"
      ]
     },
     "execution_count": 36,
     "metadata": {},
     "output_type": "execute_result"
    }
   ],
   "source": [
    "ar = arr3[:, 2] / arr3[:, 1]\n",
    "\n",
    "print(ar)\n",
    "np.max(ar)"
   ]
  },
  {
   "cell_type": "markdown",
   "metadata": {},
   "source": [
    "9. Вычислите среднее количество ингредиентов для топ-100 рецептов с наибольшей продолжительностью"
   ]
  },
  {
   "cell_type": "code",
   "execution_count": 43,
   "metadata": {},
   "outputs": [
    {
     "data": {
      "text/plain": [
       "6.61"
      ]
     },
     "execution_count": 43,
     "metadata": {},
     "output_type": "execute_result"
    }
   ],
   "source": [
    "arg = np.argsort(arr[:,1])\n",
    "arr9 = arr[arg]\n",
    "arr9 = arr9[-1:-101:-1]\n",
    "np.mean(arr9[:,2])\n"
   ]
  },
  {
   "cell_type": "markdown",
   "metadata": {},
   "source": [
    "10. Выберите случайным образом и выведите информацию о 10 различных рецептах"
   ]
  },
  {
   "cell_type": "code",
   "execution_count": 44,
   "metadata": {},
   "outputs": [
    {
     "data": {
      "text/plain": [
       "array([[ 73749,     90,      6],\n",
       "       [503955,     75,     14],\n",
       "       [141169,     75,     13],\n",
       "       [360579,     70,     19],\n",
       "       [371774,     20,      5],\n",
       "       [159617,     30,     10],\n",
       "       [226523,     30,     12],\n",
       "       [112813,    190,      3],\n",
       "       [304916,     35,      7],\n",
       "       [204589,    210,     12]], dtype=int32)"
      ]
     },
     "execution_count": 44,
     "metadata": {},
     "output_type": "execute_result"
    }
   ],
   "source": [
    "np.random.shuffle(arr)\n",
    "arr[:10]"
   ]
  },
  {
   "cell_type": "markdown",
   "metadata": {},
   "source": [
    "11. Выведите процент рецептов, кол-во ингредиентов в которых меньше среднего."
   ]
  },
  {
   "cell_type": "code",
   "execution_count": 51,
   "metadata": {},
   "outputs": [
    {
     "name": "stdout",
     "output_type": "stream",
     "text": [
      "58.802%\n"
     ]
    }
   ],
   "source": [
    "mean = np.mean(arr[:,2])\n",
    "ind = np.where(arr[:,2]<mean)[0]\n",
    "print(f\"{len(ind)*100/len(arr)}%\")"
   ]
  },
  {
   "cell_type": "markdown",
   "metadata": {},
   "source": [
    "12. Назовем \"простым\" такой рецепт, длительность выполнения которого не больше 20 минут и кол-во ингредиентов в котором не больше 5. Создайте версию датасета с дополнительным столбцом, значениями которого являются 1, если рецепт простой, и 0 в противном случае."
   ]
  },
  {
   "cell_type": "code",
   "execution_count": 59,
   "metadata": {},
   "outputs": [
    {
     "data": {
      "text/plain": [
       "array([[ 73749,     90,      6,      0],\n",
       "       [503955,     75,     14,      0],\n",
       "       [141169,     75,     13,      0],\n",
       "       ...,\n",
       "       [119965,     25,     20,      0],\n",
       "       [ 62746,    750,     13,      0],\n",
       "       [343257,     13,      7,      0]])"
      ]
     },
     "execution_count": 59,
     "metadata": {},
     "output_type": "execute_result"
    }
   ],
   "source": [
    "sample = ((arr[:,1]<=20) & (arr[:,2]<=5))\n",
    "sample = cmp.astype(int)\n",
    "arr12 = np.column_stack((arr, sample))\n",
    "arr12\n",
    "\n"
   ]
  },
  {
   "cell_type": "markdown",
   "metadata": {},
   "source": [
    "13. Выведите процент \"простых\" рецептов в датасете"
   ]
  },
  {
   "cell_type": "code",
   "execution_count": 65,
   "metadata": {},
   "outputs": [
    {
     "data": {
      "text/plain": [
       "9.552"
      ]
     },
     "execution_count": 65,
     "metadata": {},
     "output_type": "execute_result"
    }
   ],
   "source": [
    "ind = np.where(sample[:] == 1 )[0]\n",
    "len(ind)*100/len(sample)"
   ]
  },
  {
   "cell_type": "markdown",
   "metadata": {},
   "source": [
    "14. Разделим рецепты на группы по следующему правилу. Назовем рецепты короткими, если их продолжительность составляет менее 10 минут; стандартными, если их продолжительность составляет более 10, но менее 20 минут; и длинными, если их продолжительность составляет не менее 20 минут. Создайте трехмерный массив, где нулевая ось отвечает за номер группы (короткий, стандартный или длинный рецепт), первая ось - за сам рецепт и вторая ось - за характеристики рецепта. Выберите максимальное количество рецептов из каждой группы таким образом, чтобы было возможно сформировать трехмерный массив. Выведите форму полученного массива."
   ]
  },
  {
   "cell_type": "code",
   "execution_count": 74,
   "metadata": {},
   "outputs": [
    {
     "name": "stdout",
     "output_type": "stream",
     "text": [
      "[[[ 73749     90      6]\n",
      "  [371774     20      5]\n",
      "  [112813    190      3]\n",
      "  ...\n",
      "  [ 37972     15      7]\n",
      "  [293373      5      8]\n",
      "  [295737     40      4]]\n",
      "\n",
      " [[503955     75     14]\n",
      "  [141169     75     13]\n",
      "  [360579     70     19]\n",
      "  ...\n",
      "  [ 60828     50     19]\n",
      "  [ 60982    135     12]\n",
      "  [ 33786     45     13]]\n",
      "\n",
      " [[149055     65     30]\n",
      "  [475043     65     20]\n",
      "  [ 80358    150     27]\n",
      "  ...\n",
      "  [282044    210     21]\n",
      "  [211595     65     21]\n",
      "  [119965     25     20]]]\n"
     ]
    }
   ],
   "source": [
    "sh = arr[arr[:,2]<10]\n",
    "st = arr[(arr[:,2]>=10)&(arr[:,2]<20)]\n",
    "lg = arr[arr[:,2]>=20]\n",
    "\n",
    "axis1 = np.min([len(sh), len(st), len(lg)])\n",
    "Arr = np.zeros((3, axis1, 3), dtype=np.int32)\n",
    "\n",
    "Arr[0,:,:] = sh[:axis1]\n",
    "Arr[1,:,:] = st[:axis1]\n",
    "Arr[2,:,:] = lg[:axis1]\n",
    "\n",
    "print(Arr)\n"
   ]
  },
  {
   "cell_type": "code",
   "execution_count": null,
   "metadata": {},
   "outputs": [],
   "source": []
  }
 ],
 "metadata": {
  "kernelspec": {
   "display_name": "Python 3 (ipykernel)",
   "language": "python",
   "name": "python3"
  },
  "language_info": {
   "codemirror_mode": {
    "name": "ipython",
    "version": 3
   },
   "file_extension": ".py",
   "mimetype": "text/x-python",
   "name": "python",
   "nbconvert_exporter": "python",
   "pygments_lexer": "ipython3",
   "version": "3.11.7"
  }
 },
 "nbformat": 4,
 "nbformat_minor": 4
}
